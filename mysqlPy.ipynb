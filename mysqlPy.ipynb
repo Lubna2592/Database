{
 "cells": [
  {
   "cell_type": "code",
   "execution_count": 48,
   "id": "165ecb82",
   "metadata": {},
   "outputs": [
    {
     "name": "stdout",
     "output_type": "stream",
     "text": [
      "('database',)\n",
      "('information_schema',)\n",
      "('mysql',)\n",
      "('performance_schema',)\n",
      "('sys',)\n"
     ]
    }
   ],
   "source": [
    "import mysql.connector\n",
    "\n",
    "mydb = mysql.connector.connect(\n",
    "  host=\"localhost\",\n",
    "  user=\"root\",\n",
    "  password=\"dkte123\",\n",
    "  database=\"database\"\n",
    ")\n",
    "mycursor = mydb.cursor()\n",
    "\n",
    "mycursor.execute(\"SHOW DATABASES\")\n",
    "\n",
    "for x in mycursor:\n",
    "  print(x)\n"
   ]
  },
  {
   "cell_type": "code",
   "execution_count": 30,
   "id": "9c0d9004",
   "metadata": {},
   "outputs": [
    {
     "name": "stdout",
     "output_type": "stream",
     "text": [
      "('department',)\n",
      "('employees',)\n"
     ]
    }
   ],
   "source": [
    "mycursor.execute(\"SHOW TABLES\")\n",
    "\n",
    "for x in mycursor:\n",
    "  print(x)"
   ]
  },
  {
   "cell_type": "code",
   "execution_count": 29,
   "id": "24f19cab",
   "metadata": {},
   "outputs": [],
   "source": [
    "mycursor.execute(\"CREATE TABLE Department (Dept_ID INT AUTO_INCREMENT PRIMARY KEY, D_name VARCHAR(255), D_head VARCHAR(50))\")\n",
    "mydb.commit()"
   ]
  },
  {
   "cell_type": "code",
   "execution_count": 34,
   "id": "f493b479",
   "metadata": {},
   "outputs": [
    {
     "name": "stdout",
     "output_type": "stream",
     "text": [
      "1 record inserted.\n"
     ]
    }
   ],
   "source": [
    "mycursor.execute(\"\"\"INSERT INTO EMPLOYEES(emp_no,FIRST_NAME, LAST_NAME) \n",
    "   VALUES (422022,'Mac', 'Mohan')\"\"\")\n",
    "\n",
    "mydb.commit()\n",
    "\n",
    "print(mycursor.rowcount, \"record inserted.\")"
   ]
  },
  {
   "cell_type": "code",
   "execution_count": 46,
   "id": "e7cfcb5a",
   "metadata": {},
   "outputs": [
    {
     "name": "stdout",
     "output_type": "stream",
     "text": [
      "(12022, 'Shivani', 'Patil', 'Project Management', 'Project Manager', 45000, datetime.date(1985, 12, 21), 'F', datetime.date(2022, 6, 1))\n"
     ]
    }
   ],
   "source": [
    "mycursor.execute(\"SELECT * FROM EMPLOYEES\")\n",
    "\n",
    "myresult = mycursor.fetchone()\n",
    "\n",
    "print(myresult)"
   ]
  },
  {
   "cell_type": "code",
   "execution_count": 43,
   "id": "e6560fc8",
   "metadata": {},
   "outputs": [
    {
     "name": "stdout",
     "output_type": "stream",
     "text": [
      "(12022, 'Shivani', 'Patil', 'Project Management', 'Project Manager', 45000, datetime.date(1985, 12, 21), 'F', datetime.date(2022, 6, 1))\n",
      "(412022, 'Shiv', 'Shinde', 'Product Development', 'Technical Lead', 75000, datetime.date(1986, 5, 25), 'M', datetime.date(2022, 6, 13))\n",
      "(422022, 'Mac', 'Mohan', None, None, None, None, None, None)\n"
     ]
    }
   ],
   "source": [
    "mycursor.execute(\"SELECT * FROM employees\")\n",
    "\n",
    "myresult = mycursor.fetchall()\n",
    "\n",
    "for x in myresult:\n",
    "  print(x)"
   ]
  },
  {
   "cell_type": "code",
   "execution_count": 44,
   "id": "366d0de2",
   "metadata": {},
   "outputs": [
    {
     "name": "stdout",
     "output_type": "stream",
     "text": [
      "(12022, 'Shivani', 'Patil', 'Project Management', 'Project Manager', 45000, datetime.date(1985, 12, 21), 'F', datetime.date(2022, 6, 1))\n"
     ]
    }
   ],
   "source": [
    "mycursor.execute(\"SELECT * FROM EMPLOYEES WHERE Dept ='Project Management'\")\n",
    "\n",
    "myresult = mycursor.fetchall()\n",
    "\n",
    "for x in myresult:\n",
    "  print(x)"
   ]
  },
  {
   "cell_type": "code",
   "execution_count": 51,
   "id": "20434b5f",
   "metadata": {},
   "outputs": [
    {
     "name": "stdout",
     "output_type": "stream",
     "text": [
      "1 record(s) deleted\n"
     ]
    }
   ],
   "source": [
    "mycursor.execute(\"DELETE FROM employees WHERE first_name = 'Mac'\")\n",
    "\n",
    "mydb.commit()\n",
    "\n",
    "print(mycursor.rowcount, \"record(s) deleted\")"
   ]
  },
  {
   "cell_type": "code",
   "execution_count": null,
   "id": "860eebbe",
   "metadata": {},
   "outputs": [],
   "source": []
  }
 ],
 "metadata": {
  "kernelspec": {
   "display_name": "Python 3 (ipykernel)",
   "language": "python",
   "name": "python3"
  },
  "language_info": {
   "codemirror_mode": {
    "name": "ipython",
    "version": 3
   },
   "file_extension": ".py",
   "mimetype": "text/x-python",
   "name": "python",
   "nbconvert_exporter": "python",
   "pygments_lexer": "ipython3",
   "version": "3.11.4"
  }
 },
 "nbformat": 4,
 "nbformat_minor": 5
}
